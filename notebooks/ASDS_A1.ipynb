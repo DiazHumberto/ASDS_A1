{
 "cells": [
  {
   "cell_type": "markdown",
   "id": "0bccfe84-6d4e-4302-ace2-b7f873a7df41",
   "metadata": {},
   "source": [
    "# <center> Applied Statistics for Data Science \n",
    "<center> Humberto Díaz </br>\n",
    "The University of Winnipeg </br>\n",
    "DIT 54105 AIW01: Applied Statistics for Data Science </br>\n",
    "Hieu Dang PhD. </br>\n",
    "May 19, 2025 </br>"
   ]
  },
  {
   "cell_type": "code",
   "execution_count": 2,
   "id": "627b6566-670f-4a4b-9a5a-6b32ea37d67d",
   "metadata": {},
   "outputs": [],
   "source": [
    "import pandas as pd\n",
    "import numpy as np"
   ]
  },
  {
   "cell_type": "code",
   "execution_count": 3,
   "id": "30ca4346-d866-4b49-9866-8211b3c49a10",
   "metadata": {},
   "outputs": [],
   "source": [
    "df = pd.read_csv(\"/Users/eleazar/Documents/Projects/ASDS/EDA/dataset/cleaned_census_income.csv\")"
   ]
  },
  {
   "cell_type": "code",
   "execution_count": 4,
   "id": "c4b731c4-5fef-4ed8-bd11-2ad25a4e5881",
   "metadata": {},
   "outputs": [
    {
     "data": {
      "text/html": [
       "<div>\n",
       "<style scoped>\n",
       "    .dataframe tbody tr th:only-of-type {\n",
       "        vertical-align: middle;\n",
       "    }\n",
       "\n",
       "    .dataframe tbody tr th {\n",
       "        vertical-align: top;\n",
       "    }\n",
       "\n",
       "    .dataframe thead th {\n",
       "        text-align: right;\n",
       "    }\n",
       "</style>\n",
       "<table border=\"1\" class=\"dataframe\">\n",
       "  <thead>\n",
       "    <tr style=\"text-align: right;\">\n",
       "      <th></th>\n",
       "      <th>age</th>\n",
       "      <th>workclass</th>\n",
       "      <th>fnlwgt</th>\n",
       "      <th>education</th>\n",
       "      <th>education.num</th>\n",
       "      <th>marital.status</th>\n",
       "      <th>occupation</th>\n",
       "      <th>relationship</th>\n",
       "      <th>race</th>\n",
       "      <th>sex</th>\n",
       "      <th>capital.gain</th>\n",
       "      <th>capital.loss</th>\n",
       "      <th>hours.per.week</th>\n",
       "      <th>native.country</th>\n",
       "      <th>income</th>\n",
       "    </tr>\n",
       "  </thead>\n",
       "  <tbody>\n",
       "    <tr>\n",
       "      <th>0</th>\n",
       "      <td>82</td>\n",
       "      <td>Private</td>\n",
       "      <td>132870</td>\n",
       "      <td>HS-grad</td>\n",
       "      <td>9</td>\n",
       "      <td>Widowed</td>\n",
       "      <td>Exec-managerial</td>\n",
       "      <td>Not-in-family</td>\n",
       "      <td>White</td>\n",
       "      <td>Female</td>\n",
       "      <td>0</td>\n",
       "      <td>4356</td>\n",
       "      <td>18</td>\n",
       "      <td>United-States</td>\n",
       "      <td>&lt;=50K</td>\n",
       "    </tr>\n",
       "    <tr>\n",
       "      <th>1</th>\n",
       "      <td>54</td>\n",
       "      <td>Private</td>\n",
       "      <td>140359</td>\n",
       "      <td>7th-8th</td>\n",
       "      <td>4</td>\n",
       "      <td>Divorced</td>\n",
       "      <td>Machine-op-inspct</td>\n",
       "      <td>Unmarried</td>\n",
       "      <td>White</td>\n",
       "      <td>Female</td>\n",
       "      <td>0</td>\n",
       "      <td>3900</td>\n",
       "      <td>40</td>\n",
       "      <td>United-States</td>\n",
       "      <td>&lt;=50K</td>\n",
       "    </tr>\n",
       "    <tr>\n",
       "      <th>2</th>\n",
       "      <td>41</td>\n",
       "      <td>Private</td>\n",
       "      <td>264663</td>\n",
       "      <td>Some-college</td>\n",
       "      <td>10</td>\n",
       "      <td>Separated</td>\n",
       "      <td>Prof-specialty</td>\n",
       "      <td>Own-child</td>\n",
       "      <td>White</td>\n",
       "      <td>Female</td>\n",
       "      <td>0</td>\n",
       "      <td>3900</td>\n",
       "      <td>40</td>\n",
       "      <td>United-States</td>\n",
       "      <td>&lt;=50K</td>\n",
       "    </tr>\n",
       "    <tr>\n",
       "      <th>3</th>\n",
       "      <td>34</td>\n",
       "      <td>Private</td>\n",
       "      <td>216864</td>\n",
       "      <td>HS-grad</td>\n",
       "      <td>9</td>\n",
       "      <td>Divorced</td>\n",
       "      <td>Other-service</td>\n",
       "      <td>Unmarried</td>\n",
       "      <td>White</td>\n",
       "      <td>Female</td>\n",
       "      <td>0</td>\n",
       "      <td>3770</td>\n",
       "      <td>45</td>\n",
       "      <td>United-States</td>\n",
       "      <td>&lt;=50K</td>\n",
       "    </tr>\n",
       "    <tr>\n",
       "      <th>4</th>\n",
       "      <td>38</td>\n",
       "      <td>Private</td>\n",
       "      <td>150601</td>\n",
       "      <td>10th</td>\n",
       "      <td>6</td>\n",
       "      <td>Separated</td>\n",
       "      <td>Adm-clerical</td>\n",
       "      <td>Unmarried</td>\n",
       "      <td>White</td>\n",
       "      <td>Male</td>\n",
       "      <td>0</td>\n",
       "      <td>3770</td>\n",
       "      <td>40</td>\n",
       "      <td>United-States</td>\n",
       "      <td>&lt;=50K</td>\n",
       "    </tr>\n",
       "  </tbody>\n",
       "</table>\n",
       "</div>"
      ],
      "text/plain": [
       "   age workclass  fnlwgt     education  education.num marital.status  \\\n",
       "0   82   Private  132870       HS-grad              9        Widowed   \n",
       "1   54   Private  140359       7th-8th              4       Divorced   \n",
       "2   41   Private  264663  Some-college             10      Separated   \n",
       "3   34   Private  216864       HS-grad              9       Divorced   \n",
       "4   38   Private  150601          10th              6      Separated   \n",
       "\n",
       "          occupation   relationship   race     sex  capital.gain  \\\n",
       "0    Exec-managerial  Not-in-family  White  Female             0   \n",
       "1  Machine-op-inspct      Unmarried  White  Female             0   \n",
       "2     Prof-specialty      Own-child  White  Female             0   \n",
       "3      Other-service      Unmarried  White  Female             0   \n",
       "4       Adm-clerical      Unmarried  White    Male             0   \n",
       "\n",
       "   capital.loss  hours.per.week native.country income  \n",
       "0          4356              18  United-States  <=50K  \n",
       "1          3900              40  United-States  <=50K  \n",
       "2          3900              40  United-States  <=50K  \n",
       "3          3770              45  United-States  <=50K  \n",
       "4          3770              40  United-States  <=50K  "
      ]
     },
     "execution_count": 4,
     "metadata": {},
     "output_type": "execute_result"
    }
   ],
   "source": [
    "df.head()"
   ]
  },
  {
   "cell_type": "markdown",
   "id": "b465177b-ee33-48f5-a424-86989136ae18",
   "metadata": {},
   "source": [
    "#### Questions about variables in general"
   ]
  },
  {
   "cell_type": "markdown",
   "id": "dd41580d-b20d-4d04-a885-b1d0f65adfaf",
   "metadata": {},
   "source": [
    "**Q1) What are the categorical variables in this dataset, and why? (10)** <br>\n",
    "Categorical variables: ``workclass``, ``education``, ``marital.status``, ``occupation``, ``relationship``, ``race``, ``native.country``"
   ]
  },
  {
   "cell_type": "markdown",
   "id": "e521a027-76c1-4a43-926e-24509e3a96cf",
   "metadata": {},
   "source": [
    "**Q2) What are the quantitative variables in this dataset, and why? (10)** <br>\n",
    "Quantitative variables: ``age``, ``fnlwgt``, ``education.num``, ``capital.gain``, ``capital.loss``, ``hours.per.week``, ``income``"
   ]
  },
  {
   "cell_type": "code",
   "execution_count": 11,
   "id": "dc5c46be-0731-4a2c-be8a-47fb2b0bedf9",
   "metadata": {},
   "outputs": [
    {
     "name": "stdout",
     "output_type": "stream",
     "text": [
      "categorical columns: ['relationship', 'workclass', 'occupation', 'marital.status', 'native.country', 'sex', 'race', 'income', 'education']\n",
      "quantitative columns: ['capital.loss', 'age', 'fnlwgt', 'hours.per.week', 'education.num', 'capital.gain']\n"
     ]
    }
   ],
   "source": [
    "# Function for determining categorical and numerical variables\n",
    "def check_variables(df: pd.DataFrame):\n",
    "    cols = df.columns\n",
    "    quantitative_cols = df._get_numeric_data().columns\n",
    "    categorical_cols = list(set(cols) - set(quantitative_cols))\n",
    "    return categorical_cols, list(set(quantitative_cols))\n",
    "cat_cols, quan_cols = check_variables(df)\n",
    "print(f'categorical columns: {cat_cols}')\n",
    "print(f'quantitative columns: {quan_cols}')"
   ]
  },
  {
   "cell_type": "markdown",
   "id": "4488e600-d964-47e4-8055-0a502601ae41",
   "metadata": {},
   "source": [
    "#### Questions about examining distribution of one categorical variable"
   ]
  },
  {
   "cell_type": "markdown",
   "id": "8050eda8-fe8c-4ad8-ae6c-5b3ce400c5a8",
   "metadata": {},
   "source": [
    "**Q3) Examine distribution of ``workclass`` variable (10)**\n",
    "- Create a frequency distribution table for different values of ``workclass`` variable\n",
    "- Plot pie chart for ``workclass`` variable\n",
    "- Plot bar chart for ``workclass`` variable\n",
    "- Provide your summary/interpretation about the distribution of ``workclass`` variable."
   ]
  },
  {
   "cell_type": "code",
   "execution_count": 8,
   "id": "1ed797cb-fb2b-40f8-8e94-1cc11b135a6b",
   "metadata": {},
   "outputs": [
    {
     "name": "stdout",
     "output_type": "stream",
     "text": [
      "          Workclass  Frequency  Percentage\n",
      "0           Private      22286   73.887673\n",
      "1  Self-emp-not-inc       2499    8.285260\n",
      "2         Local-gov       2067    6.852994\n",
      "3         State-gov       1279    4.240435\n",
      "4      Self-emp-inc       1074    3.560772\n",
      "5       Federal-gov        943    3.126451\n",
      "6       Without-pay         14    0.046416\n"
     ]
    }
   ],
   "source": [
    "# Create frequency distribution table\n",
    "workclass_freq = df['workclass'].value_counts().reset_index()\n",
    "workclass_freq.columns = ['Workclass', 'Frequency']\n",
    "\n",
    "# Calculate percentages\n",
    "workclass_freq['Percentage'] = (workclass_freq['Frequency'] / len(df)) * 100\n",
    "\n",
    "# Sort by frequency (optional)\n",
    "workclass_freq = workclass_freq.sort_values('Frequency', ascending=False)\n",
    "\n",
    "# Display the table\n",
    "print(workclass_freq)"
   ]
  },
  {
   "cell_type": "markdown",
   "id": "0b87c962-11bc-4b37-97a7-ef84a620ea74",
   "metadata": {},
   "source": [
    "**Q4) Examine distribution of ``education`` variable (10)**\n",
    "- Create a frequency distribution table for different values of ``education`` variable\n",
    "- Plot pie chart for ``education`` variable\n",
    "- Plot bar chart for ``education`` variable\n",
    "- Provide your summary/interpretation about the distribution of ``education`` variable."
   ]
  },
  {
   "cell_type": "markdown",
   "id": "f73a8b82-2c7f-4c6c-8843-d178d5470be0",
   "metadata": {},
   "source": [
    "**Q5) Examine distribution of ``marital.status`` variable (10)**\n",
    "- Create a frequency distribution table for different values of marital­ .status\n",
    "variable\n",
    "- Plot pie chart for ``marital.status`` variable\n",
    "- Plot bar chart for ``marital.status`` variable\n",
    "- Provide your summary/interpretation about the distribution of ``marital.status``\n",
    "variable."
   ]
  },
  {
   "cell_type": "markdown",
   "id": "a09a8f03-bf1d-449e-831b-ad278e0aa8df",
   "metadata": {},
   "source": [
    "**Q6) Examine distribution of ``occupation`` variable (10)**\n",
    "- Create a frequency distribution table for different values of ``occupation`` variable\n",
    "- Plot pie chart for ``occupation`` variable\n",
    "- Plot bar chart for ``occupation`` variable\n",
    "- Provide your summary/interpretation about the distribution of ``occupation`` variable."
   ]
  },
  {
   "cell_type": "markdown",
   "id": "82676930-34e2-411d-9583-07d656302ac7",
   "metadata": {},
   "source": [
    "**Q7) Examine distribution of ``sex`` variable (10)**\n",
    "- Create a frequency distribution table for different values of ``sex`` variable\n",
    "- Plot pie chart for ``sex`` variable\n",
    "- Plot bar chart for ``sex`` variable\n",
    "- Provide your summary/interpretation about the distribution of ``sex`` variable."
   ]
  },
  {
   "cell_type": "markdown",
   "id": "38e1f430-dccf-48cc-a1bc-4a368a60c590",
   "metadata": {},
   "source": [
    "#### Questions about examining distribution of one quantitative variable"
   ]
  },
  {
   "cell_type": "markdown",
   "id": "986a5692-9658-430e-bf1c-1a112001ec55",
   "metadata": {},
   "source": [
    "**Q8) Examine distribution of ``age`` variable (10)**\n",
    "- Plot histogram for ``age`` variable\n",
    "- Interpret your observation from the histogram with respect to the shape,\n",
    "center, spread, and outliers.\n",
    "- Calculate measures of center of the distribution of ``age``: mode, mean, median\n",
    "- Calculate measures of spread of the distribution of ``age``: range, IQR, outliers based on 1.5IQR criterion, standard deviation.\n",
    "- Plot the box plot for ``age`` variable\n",
    "- Provide your summary/interpretation about the distribution of ``age``."
   ]
  },
  {
   "cell_type": "markdown",
   "id": "98067ade-3dc1-4004-bee2-682e6e1959b3",
   "metadata": {},
   "source": [
    "**Q9) Examine distribution of ``education.num`` variable (10)**\n",
    "- Plot histogram for ``education.num`` variable\n",
    "- Interpret your observation from the histogram with respect to the shape, center, spread, and outliers.\n",
    "- Calculate measures of center of the distribution of ``education.num``: mode, mean, median\n",
    "- Calculate measures of spread of the distribution of ``education.num``: range, IQR, outliers based on 1.5IQR criterion, standard deviation.\n",
    "- Plot the box plot for ``education.num`` variable\n",
    "- Provide your summary/interpretation about the distribution of ``education.num``."
   ]
  },
  {
   "cell_type": "markdown",
   "id": "5b36a4c5-0e5a-4f03-9191-79647115ef5f",
   "metadata": {},
   "source": [
    "**Q10) Examine distribution of ``hours.per.week`` variable (10)**\n",
    "- Plot histogram for ``hours.per.week`` variable\n",
    "- Interpret your observation from the histogram with respect to the shape, center, spread, and outliers.\n",
    "- Calculate measures of center of the distribution of ``hours.per.week``: mode, mean, median\n",
    "- Calculate measures of spread of the distribution of ``hours.per.week``: range, IQR, outliers based on 1.5IQR criterion, standard deviation.\n",
    "- Plot the box plot for ``hours.per.week`` variable\n",
    "- Provide your summary/interpretation about the distribution of ``hours.per.week``."
   ]
  },
  {
   "cell_type": "code",
   "execution_count": null,
   "id": "ed17d40b-56e9-4464-b0bb-f44593fa275b",
   "metadata": {},
   "outputs": [],
   "source": []
  }
 ],
 "metadata": {
  "kernelspec": {
   "display_name": "Python 3 (ipykernel)",
   "language": "python",
   "name": "python3"
  },
  "language_info": {
   "codemirror_mode": {
    "name": "ipython",
    "version": 3
   },
   "file_extension": ".py",
   "mimetype": "text/x-python",
   "name": "python",
   "nbconvert_exporter": "python",
   "pygments_lexer": "ipython3",
   "version": "3.13.3"
  }
 },
 "nbformat": 4,
 "nbformat_minor": 5
}
