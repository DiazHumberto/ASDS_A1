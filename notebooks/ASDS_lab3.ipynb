{
 "cells": [
  {
   "cell_type": "markdown",
   "id": "aebc1bfd-8857-409b-b4f4-f799687b95ea",
   "metadata": {},
   "source": [
    "# Applied Statistics for Data Science - Lab #3\n",
    "Humberto Diaz"
   ]
  },
  {
   "cell_type": "markdown",
   "id": "985730ef-01b2-4ec0-8ddd-1b19223723da",
   "metadata": {},
   "source": [
    "### Objectives:\n",
    "In this lab, students will learn how to:\n",
    "- Import datasets from csv files to jupyter notebook as data frames\n",
    "- Report and display some basic information about the dataset, distinguish\n",
    "categorical and quantitative variables from dataset\n",
    "- Examine relationship between a categorical explanatory variable and a\n",
    "quantitative response variable (C->Q) using side-by-side boxplots and\n",
    "descriptive statistics.\n",
    "- Examine relationship between two categorical variables (C->C) using two-way\n",
    "tables, conditional percentages, and double bar charts\n",
    "- Examine relationship between two quantitative variables (Q->Q) using scatter\n",
    "plots for direction, form, strength, and outliers. Calculate linear correlation and\n",
    "least square regression line."
   ]
  },
  {
   "cell_type": "code",
   "execution_count": 1,
   "id": "2f4cf5ae-09ef-4403-92dc-92237a9c66d6",
   "metadata": {},
   "outputs": [],
   "source": [
    "import numpy as np\n",
    "import pandas as pd\n",
    "import matplotlib.pyplot as plt\n",
    "import seaborn as sns"
   ]
  },
  {
   "cell_type": "code",
   "execution_count": 2,
   "id": "bf044e38-a6f2-4290-92bb-d1d18a4bbfbe",
   "metadata": {},
   "outputs": [],
   "source": [
    "df = pd.read_csv(\n",
    "    \"~/Documents/Projects/ASDS/EDA/dataset/insurance.csv\"\n",
    ")"
   ]
  },
  {
   "cell_type": "code",
   "execution_count": 6,
   "id": "963f12db-d2ca-4423-8d31-87572df0ef14",
   "metadata": {},
   "outputs": [
    {
     "data": {
      "text/html": [
       "<div>\n",
       "<style scoped>\n",
       "    .dataframe tbody tr th:only-of-type {\n",
       "        vertical-align: middle;\n",
       "    }\n",
       "\n",
       "    .dataframe tbody tr th {\n",
       "        vertical-align: top;\n",
       "    }\n",
       "\n",
       "    .dataframe thead th {\n",
       "        text-align: right;\n",
       "    }\n",
       "</style>\n",
       "<table border=\"1\" class=\"dataframe\">\n",
       "  <thead>\n",
       "    <tr style=\"text-align: right;\">\n",
       "      <th></th>\n",
       "      <th>age</th>\n",
       "      <th>sex</th>\n",
       "      <th>bmi</th>\n",
       "      <th>children</th>\n",
       "      <th>smoker</th>\n",
       "      <th>region</th>\n",
       "      <th>charges</th>\n",
       "    </tr>\n",
       "  </thead>\n",
       "  <tbody>\n",
       "    <tr>\n",
       "      <th>0</th>\n",
       "      <td>19</td>\n",
       "      <td>female</td>\n",
       "      <td>27.900</td>\n",
       "      <td>0</td>\n",
       "      <td>yes</td>\n",
       "      <td>southwest</td>\n",
       "      <td>16884.92400</td>\n",
       "    </tr>\n",
       "    <tr>\n",
       "      <th>1</th>\n",
       "      <td>18</td>\n",
       "      <td>male</td>\n",
       "      <td>33.770</td>\n",
       "      <td>1</td>\n",
       "      <td>no</td>\n",
       "      <td>southeast</td>\n",
       "      <td>1725.55230</td>\n",
       "    </tr>\n",
       "    <tr>\n",
       "      <th>2</th>\n",
       "      <td>28</td>\n",
       "      <td>male</td>\n",
       "      <td>33.000</td>\n",
       "      <td>3</td>\n",
       "      <td>no</td>\n",
       "      <td>southeast</td>\n",
       "      <td>4449.46200</td>\n",
       "    </tr>\n",
       "    <tr>\n",
       "      <th>3</th>\n",
       "      <td>33</td>\n",
       "      <td>male</td>\n",
       "      <td>22.705</td>\n",
       "      <td>0</td>\n",
       "      <td>no</td>\n",
       "      <td>northwest</td>\n",
       "      <td>21984.47061</td>\n",
       "    </tr>\n",
       "    <tr>\n",
       "      <th>4</th>\n",
       "      <td>32</td>\n",
       "      <td>male</td>\n",
       "      <td>28.880</td>\n",
       "      <td>0</td>\n",
       "      <td>no</td>\n",
       "      <td>northwest</td>\n",
       "      <td>3866.85520</td>\n",
       "    </tr>\n",
       "  </tbody>\n",
       "</table>\n",
       "</div>"
      ],
      "text/plain": [
       "   age     sex     bmi  children smoker     region      charges\n",
       "0   19  female  27.900         0    yes  southwest  16884.92400\n",
       "1   18    male  33.770         1     no  southeast   1725.55230\n",
       "2   28    male  33.000         3     no  southeast   4449.46200\n",
       "3   33    male  22.705         0     no  northwest  21984.47061\n",
       "4   32    male  28.880         0     no  northwest   3866.85520"
      ]
     },
     "execution_count": 6,
     "metadata": {},
     "output_type": "execute_result"
    }
   ],
   "source": [
    "df.head()"
   ]
  },
  {
   "cell_type": "code",
   "execution_count": 7,
   "id": "c264de94-47e4-484b-bd79-7552ed8b0bc0",
   "metadata": {},
   "outputs": [
    {
     "name": "stdout",
     "output_type": "stream",
     "text": [
      "<class 'pandas.core.frame.DataFrame'>\n",
      "RangeIndex: 1338 entries, 0 to 1337\n",
      "Data columns (total 7 columns):\n",
      " #   Column    Non-Null Count  Dtype  \n",
      "---  ------    --------------  -----  \n",
      " 0   age       1338 non-null   int64  \n",
      " 1   sex       1338 non-null   object \n",
      " 2   bmi       1338 non-null   float64\n",
      " 3   children  1338 non-null   int64  \n",
      " 4   smoker    1338 non-null   object \n",
      " 5   region    1338 non-null   object \n",
      " 6   charges   1338 non-null   float64\n",
      "dtypes: float64(2), int64(2), object(3)\n",
      "memory usage: 73.3+ KB\n"
     ]
    }
   ],
   "source": [
    "df.info()"
   ]
  },
  {
   "cell_type": "code",
   "execution_count": 13,
   "id": "d14c3c5f-c118-420b-a9e2-40da616143ee",
   "metadata": {},
   "outputs": [
    {
     "data": {
      "text/plain": [
       "(1338, 7)"
      ]
     },
     "execution_count": 13,
     "metadata": {},
     "output_type": "execute_result"
    }
   ],
   "source": [
    "df.shape"
   ]
  },
  {
   "cell_type": "code",
   "execution_count": 11,
   "id": "68a7d20b-c648-41a2-abc2-36076bd606f7",
   "metadata": {},
   "outputs": [
    {
     "name": "stdout",
     "output_type": "stream",
     "text": [
      "categorical columns: ['region', 'sex', 'smoker']\n",
      "quantitative columns: ['children', 'age', 'charges', 'bmi']\n"
     ]
    }
   ],
   "source": [
    "# Function for determining categorical and numerical variables\n",
    "def check_variables(df: pd.DataFrame):\n",
    "    cols = df.columns\n",
    "    # Numerical columns (int, float)\n",
    "    quantitative_cols = df._get_numeric_data().columns\n",
    "    \n",
    "    # Categorical columns (object, category, bool)\n",
    "    categorical_cols = list(set(cols) - set(quantitative_cols))\n",
    "    \n",
    "    return categorical_cols, list(set(quantitative_cols))\n",
    "cat_cols, quan_cols = check_variables(df)\n",
    "\n",
    "print(f'categorical columns: {cat_cols}')\n",
    "print(f'quantitative columns: {quan_cols}')"
   ]
  },
  {
   "cell_type": "code",
   "execution_count": 19,
   "id": "9456d57f-da72-40d3-8db9-fa83d2a7301a",
   "metadata": {},
   "outputs": [
    {
     "data": {
      "text/html": [
       "<div>\n",
       "<style scoped>\n",
       "    .dataframe tbody tr th:only-of-type {\n",
       "        vertical-align: middle;\n",
       "    }\n",
       "\n",
       "    .dataframe tbody tr th {\n",
       "        vertical-align: top;\n",
       "    }\n",
       "\n",
       "    .dataframe thead th {\n",
       "        text-align: right;\n",
       "    }\n",
       "</style>\n",
       "<table border=\"1\" class=\"dataframe\">\n",
       "  <thead>\n",
       "    <tr style=\"text-align: right;\">\n",
       "      <th></th>\n",
       "      <th>age</th>\n",
       "      <th>bmi</th>\n",
       "      <th>children</th>\n",
       "      <th>charges</th>\n",
       "    </tr>\n",
       "  </thead>\n",
       "  <tbody>\n",
       "    <tr>\n",
       "      <th>count</th>\n",
       "      <td>1338.000000</td>\n",
       "      <td>1338.000000</td>\n",
       "      <td>1338.000000</td>\n",
       "      <td>1338.000000</td>\n",
       "    </tr>\n",
       "    <tr>\n",
       "      <th>mean</th>\n",
       "      <td>39.207025</td>\n",
       "      <td>30.663397</td>\n",
       "      <td>1.094918</td>\n",
       "      <td>13270.422265</td>\n",
       "    </tr>\n",
       "    <tr>\n",
       "      <th>std</th>\n",
       "      <td>14.049960</td>\n",
       "      <td>6.098187</td>\n",
       "      <td>1.205493</td>\n",
       "      <td>12110.011237</td>\n",
       "    </tr>\n",
       "    <tr>\n",
       "      <th>min</th>\n",
       "      <td>18.000000</td>\n",
       "      <td>15.960000</td>\n",
       "      <td>0.000000</td>\n",
       "      <td>1121.873900</td>\n",
       "    </tr>\n",
       "    <tr>\n",
       "      <th>25%</th>\n",
       "      <td>27.000000</td>\n",
       "      <td>26.296250</td>\n",
       "      <td>0.000000</td>\n",
       "      <td>4740.287150</td>\n",
       "    </tr>\n",
       "    <tr>\n",
       "      <th>50%</th>\n",
       "      <td>39.000000</td>\n",
       "      <td>30.400000</td>\n",
       "      <td>1.000000</td>\n",
       "      <td>9382.033000</td>\n",
       "    </tr>\n",
       "    <tr>\n",
       "      <th>75%</th>\n",
       "      <td>51.000000</td>\n",
       "      <td>34.693750</td>\n",
       "      <td>2.000000</td>\n",
       "      <td>16639.912515</td>\n",
       "    </tr>\n",
       "    <tr>\n",
       "      <th>max</th>\n",
       "      <td>64.000000</td>\n",
       "      <td>53.130000</td>\n",
       "      <td>5.000000</td>\n",
       "      <td>63770.428010</td>\n",
       "    </tr>\n",
       "  </tbody>\n",
       "</table>\n",
       "</div>"
      ],
      "text/plain": [
       "               age          bmi     children       charges\n",
       "count  1338.000000  1338.000000  1338.000000   1338.000000\n",
       "mean     39.207025    30.663397     1.094918  13270.422265\n",
       "std      14.049960     6.098187     1.205493  12110.011237\n",
       "min      18.000000    15.960000     0.000000   1121.873900\n",
       "25%      27.000000    26.296250     0.000000   4740.287150\n",
       "50%      39.000000    30.400000     1.000000   9382.033000\n",
       "75%      51.000000    34.693750     2.000000  16639.912515\n",
       "max      64.000000    53.130000     5.000000  63770.428010"
      ]
     },
     "execution_count": 19,
     "metadata": {},
     "output_type": "execute_result"
    }
   ],
   "source": [
    "# Pands just take the numerical (quantitative) varaibles\n",
    "df.describe()"
   ]
  },
  {
   "cell_type": "code",
   "execution_count": 20,
   "id": "5e785587-23f5-4361-ac24-4efa245e9f8e",
   "metadata": {},
   "outputs": [
    {
     "data": {
      "text/plain": [
       "<Axes: xlabel='sex', ylabel='charges'>"
      ]
     },
     "execution_count": 20,
     "metadata": {},
     "output_type": "execute_result"
    },
    {
     "data": {
      "image/png": "[encoded data removed]",
      "text/plain": [
       "<Figure size 640x480 with 1 Axes>"
      ]
     },
     "metadata": {},
     "output_type": "display_data"
    }
   ],
   "source": [
    "# Plot side-by-side boxplot for C-Q variables\n",
    "sns.boxplot(\n",
    "    x=\"sex\",\n",
    "    y=\"charges\",\n",
    "    data=df,\n",
    "    order=[\"male\", \"female\"]\n",
    ")"
   ]
  },
  {
   "cell_type": "code",
   "execution_count": 23,
   "id": "4593c263-eccc-45ce-918d-f54217050d60",
   "metadata": {},
   "outputs": [
    {
     "ename": "SyntaxError",
     "evalue": "invalid syntax (317878384.py, line 13)",
     "output_type": "error",
     "traceback": [
      "  \u001b[36mCell\u001b[39m\u001b[36m \u001b[39m\u001b[32mIn[23]\u001b[39m\u001b[32m, line 13\u001b[39m\n\u001b[31m    \u001b[39m\u001b[31metc.\u001b[39m\n        ^\n\u001b[31mSyntaxError\u001b[39m\u001b[31m:\u001b[39m invalid syntax\n"
     ]
    }
   ],
   "source": [
    "# Plot double-bar charts from conditional percentages\n",
    "labels = ['smoking', 'non-smoking']\n",
    "# conditional percentages (%)\n",
    "male_percentage = [23.52, 76.48]\n",
    "female_percentage = [17.37, 82.63]\n",
    "x = np.arange(len(labels))\n",
    "width = 0.2\n",
    "fig, ax = plt.subplots(figsize=(6,7))\n",
    "rects1 = ax.bar(x - width/2, male_percentage, width, label='Male')\n",
    "rects2 = ax.bar(x + width/2, female_percentage, width,\n",
    "label='Female')\n",
    "# Add some text for labels, title and custom x-axis tick labels,\n",
    "etc.\n",
    "ax.set_ylabel('Percent')\n",
    "ax.set_xlabel('Gender')\n",
    "ax.set_xticks(x)\n",
    "ax.set_xticklabels(labels)\n",
    "ax.legend()\n",
    "ax.bar_label(rects1, padding=3)\n",
    "ax.bar_label(rects2, padding=3)\n",
    "fig.tight_layout()"
   ]
  },
  {
   "cell_type": "code",
   "execution_count": 24,
   "id": "6227b3e0-ae36-4c8a-ae19-6fc459cdf81b",
   "metadata": {},
   "outputs": [],
   "source": [
    "# Calculate linear correlation between two quantitative variables\n",
    "corr_mat = np.corrcoef(df['age'],\n",
    "df['charges'])\n",
    "\n",
    "r = corr_mat[0][1]"
   ]
  },
  {
   "cell_type": "code",
   "execution_count": 25,
   "id": "df72d4bb-d3fe-4940-90b2-207c5e3cc59a",
   "metadata": {},
   "outputs": [
    {
     "data": {
      "text/plain": [
       "Text(0.5, 1.0, 'r = 0.299')"
      ]
     },
     "execution_count": 25,
     "metadata": {},
     "output_type": "execute_result"
    },
    {
     "data": {
      "image/png": "[encoded data removed]",
      "text/plain": [
       "<Figure size 640x480 with 1 Axes>"
      ]
     },
     "metadata": {},
     "output_type": "display_data"
    }
   ],
   "source": [
    "# Scatter plot for two quantitative variables\n",
    "plt.scatter(df['age'], df['charges'])\n",
    "plt.xlabel('Age')\n",
    "plt.ylabel('Charges')\n",
    "plt.title(f'r = {round(r, 4)}')"
   ]
  },
  {
   "cell_type": "code",
   "execution_count": 28,
   "id": "7dffab48-6221-4250-ae06-6472f2abb2f6",
   "metadata": {},
   "outputs": [
    {
     "ename": "SyntaxError",
     "evalue": "unterminated f-string literal (detected at line 19) (590050289.py, line 19)",
     "output_type": "error",
     "traceback": [
      "  \u001b[36mCell\u001b[39m\u001b[36m \u001b[39m\u001b[32mIn[28]\u001b[39m\u001b[32m, line 19\u001b[39m\n\u001b[31m    \u001b[39m\u001b[31mplt.plot(x, y, '-r', label=f'Charges={round(a,3)} +\u001b[39m\n                               ^\n\u001b[31mSyntaxError\u001b[39m\u001b[31m:\u001b[39m unterminated f-string literal (detected at line 19)\n"
     ]
    }
   ],
   "source": [
    "# Scatter plot with least square regression line\n",
    "\n",
    "# least square regression\n",
    "# eg., evaluate the linear relationship for insurance charges less than $15k\n",
    "\n",
    "df_small = df_insurance[df_insurance.charges <= 15000]\n",
    "# correlation\n",
    "r=np.corrcoef(df_small['age'], df_small['charges'])[0][1]\n",
    "# calculate slope\n",
    "b = r*(np.std(df_small['charges'])/np.std(df_small['age']))\n",
    "# calculate intercept\n",
    "a = np.mean(df_small['charges']) - b*np.mean(df_small['age'])\n",
    "# regression line\n",
    "x = np.linspace(10,100)\n",
    "y = a + b*x\n",
    "# plot scatter\n",
    "plt.scatter(df_small['age'], df_small['charges'])\n",
    "# plot regression line\n",
    "plt.plot(x, y, '-r', label=f'Charges={round(a,3)} +\n",
    "{round(b,3)}*Age')\n",
    "plt.xlabel('Age', color='#1C2833')\n",
    "plt.ylabel('Charges', color='#1C2833')\n",
    "plt.legend(loc='upper left')\n",
    "plt.title('Least Square Regression')"
   ]
  },
  {
   "cell_type": "code",
   "execution_count": null,
   "id": "c5addfa1-9d71-482d-8815-d26a759ed43e",
   "metadata": {},
   "outputs": [],
   "source": []
  }
 ],
 "metadata": {
  "kernelspec": {
   "display_name": "Python 3 (ipykernel)",
   "language": "python",
   "name": "python3"
  },
  "language_info": {
   "codemirror_mode": {
    "name": "ipython",
    "version": 3
   },
   "file_extension": ".py",
   "mimetype": "text/x-python",
   "name": "python",
   "nbconvert_exporter": "python",
   "pygments_lexer": "ipython3",
   "version": "3.13.3"
  }
 },
 "nbformat": 4,
 "nbformat_minor": 5
}
