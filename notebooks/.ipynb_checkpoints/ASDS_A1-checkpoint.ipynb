{
 "cells": [
  {
   "cell_type": "markdown",
   "id": "0bccfe84-6d4e-4302-ace2-b7f873a7df41",
   "metadata": {},
   "source": [
    "Applied Statistics for Data Science"
   ]
  },
  {
   "cell_type": "code",
   "execution_count": 1,
   "id": "627b6566-670f-4a4b-9a5a-6b32ea37d67d",
   "metadata": {},
   "outputs": [],
   "source": [
    "import pandas as pd\n",
    "import numpy as np"
   ]
  },
  {
   "cell_type": "code",
   "execution_count": null,
   "id": "30ca4346-d866-4b49-9866-8211b3c49a10",
   "metadata": {},
   "outputs": [],
   "source": [
    "df = "
   ]
  }
 ],
 "metadata": {
  "kernelspec": {
   "display_name": "Python 3 (ipykernel)",
   "language": "python",
   "name": "python3"
  },
  "language_info": {
   "codemirror_mode": {
    "name": "ipython",
    "version": 3
   },
   "file_extension": ".py",
   "mimetype": "text/x-python",
   "name": "python",
   "nbconvert_exporter": "python",
   "pygments_lexer": "ipython3",
   "version": "3.13.3"
  }
 },
 "nbformat": 4,
 "nbformat_minor": 5
}
